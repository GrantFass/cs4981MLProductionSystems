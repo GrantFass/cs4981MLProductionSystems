{
 "cells": [
  {
   "attachments": {},
   "cell_type": "markdown",
   "metadata": {},
   "source": [
    "# Part 1: Offline Model Development Hyperparameter Tuning\n",
    "You will write a script to optimize a model using the currently available data. Adapt your solution from project 1 to use the labeled emails stored in Minio.  Divide the data the into training (80%), validation (10%), and testing sets (20%) by time. Make sure that you handle class imbalance in the training set.\n",
    "\n",
    "Train models with different parameters for the CountVectorizer, different model types, and hyper-parameters for your model type.  Evaluate the models on the validation set.  Choose the settings that give you the best result on the validation set.\n",
    "\n",
    "Finally, using those parameters, train a model on the training set and evaluate on the testing set.  Output the parameters and metrics (as a JSON file)."
   ]
  },
  {
   "cell_type": "code",
   "execution_count": 1,
   "metadata": {},
   "outputs": [],
   "source": [
    "import datetime\n",
    "import json\n",
    "import os\n",
    "import boto3\n",
    "from dotenv import load_dotenv\n",
    "from datetime import datetime\n",
    "from flask import Flask, request, jsonify\n",
    "from botocore.errorfactory import ClientError\n",
    "import structlog  # for event logging\n",
    "import pandas as pd\n",
    "import numpy as np\n",
    "import os\n",
    "import json\n",
    "import glob\n",
    "import pickle\n",
    "from sklearn.feature_extraction.text import CountVectorizer\n",
    "import scipy\n",
    "from scipy.sparse import csr_matrix\n",
    "from sklearn.decomposition import TruncatedSVD\n",
    "import matplotlib.pyplot as plt\n",
    "from sklearn.model_selection import train_test_split\n",
    "from sklearn.metrics import confusion_matrix, f1_score\n",
    "from sklearn.cluster import DBSCAN\n",
    "from sklearn import svm\n",
    "from sklearn import metrics\n",
    "from sklearn.model_selection import StratifiedKFold\n",
    "from imblearn.under_sampling import RandomUnderSampler\n",
    "from collections import Counter\n",
    "from sklearn.feature_extraction.text import TfidfVectorizer\n",
    "from sklearn.pipeline import Pipeline\n",
    "from sklearn.preprocessing import OneHotEncoder\n",
    "from sklearn.compose import ColumnTransformer\n",
    "from sklearn.linear_model import RidgeClassifier\n",
    "from sklearn.ensemble import RandomForestClassifier\n",
    "from sklearn.model_selection import GridSearchCV\n",
    "import joblib"
   ]
  },
  {
   "cell_type": "code",
   "execution_count": 28,
   "metadata": {},
   "outputs": [],
   "source": [
    "\n",
    "# load the environment files\n",
    "load_dotenv()\n",
    "s3_resource = boto3.resource('s3',\n",
    "                             endpoint_url=os.getenv('ENDPOINT_URL'),\n",
    "                             aws_access_key_id=os.getenv('AWS_ACCESS_KEY_ID'),\n",
    "                             aws_secret_access_key=os.getenv('AWS_SECRET_ACCESS_KEY'),\n",
    "                             aws_session_token=None,\n",
    "                             config=boto3.session.Config(signature_version='s3v4'),\n",
    "                             verify=False\n",
    "                             )\n",
    "s3_client = boto3.client('s3',\n",
    "                             endpoint_url=os.getenv('ENDPOINT_URL'),\n",
    "                             aws_access_key_id=os.getenv('AWS_ACCESS_KEY_ID'),\n",
    "                             aws_secret_access_key=os.getenv('AWS_SECRET_ACCESS_KEY'),\n",
    "                             aws_session_token=None,\n",
    "                             config=boto3.session.Config(signature_version='s3v4'),\n",
    "                             verify=False\n",
    "                             )"
   ]
  },
  {
   "cell_type": "code",
   "execution_count": 3,
   "metadata": {},
   "outputs": [],
   "source": [
    "def read_from_s3_bucket(file_name: str, bucket_name=\"joined-out\"):\n",
    "    # read all the files in the bucket\n",
    "    bucket = s3_resource.Bucket(bucket_name)\n",
    "    found = False\n",
    "    data = \"\"\n",
    "    for obj in bucket.objects.all():\n",
    "        key = obj.key\n",
    "        if file_name in str(key):\n",
    "            body = obj.get()['Body'].read()\n",
    "            \n",
    "            if isinstance(body, bytes):\n",
    "                body = body.decode()\n",
    "            elif not isinstance(body, str):\n",
    "                body = str(body)\n",
    "                \n",
    "            print(\"%s : length = %s\" % (key, len(body)))\n",
    "                \n",
    "            data += body\n",
    "            # data = body\n",
    "            # data.append(body)\n",
    "            found = True\n",
    "    if found:\n",
    "        return data\n",
    "    else:\n",
    "        print(\"ERROR KEY NOT FOUND\")\n",
    "        return -1"
   ]
  },
  {
   "cell_type": "code",
   "execution_count": 4,
   "metadata": {},
   "outputs": [
    {
     "name": "stdout",
     "output_type": "stream",
     "text": [
      "out/_SUCCESS : length = 0\n",
      "out/part-00000-28743dcb-7f7e-4000-ab03-e38baf795fe1-c000.json : length = 44613071\n",
      "out/part-00001-28743dcb-7f7e-4000-ab03-e38baf795fe1-c000.json : length = 44990855\n",
      "out/part-00002-28743dcb-7f7e-4000-ab03-e38baf795fe1-c000.json : length = 44710523\n",
      "out/part-00003-28743dcb-7f7e-4000-ab03-e38baf795fe1-c000.json : length = 45277188\n"
     ]
    }
   ],
   "source": [
    "\n",
    "DEBUG = True\n",
    "# read in all the data from S3 as one big string\n",
    "data = read_from_s3_bucket(file_name=\"out/\")"
   ]
  },
  {
   "cell_type": "code",
   "execution_count": 5,
   "metadata": {},
   "outputs": [
    {
     "name": "stdout",
     "output_type": "stream",
     "text": [
      "100000\n",
      "Type: <class 'list'> of type: <class 'dict'>, Len 100000\n"
     ]
    }
   ],
   "source": [
    "# Split the string of data into individual lines. Only works because backslash is escaped in string.\n",
    "data = data.split('\\n')\n",
    "data = data[0:-1]\n",
    "if DEBUG: print(len(data))\n",
    "\n",
    "# convert every entry in the list to a JSON object. \n",
    "records = []\n",
    "for i in range(len(data)):\n",
    "    record = json.loads(data[i])\n",
    "    record['email_object'] = json.loads(record['email_object'])\n",
    "    record['to'] = record['email_object']['to']\n",
    "    record['body'] = record['email_object']['body']\n",
    "    record['from'] = record['email_object']['from']\n",
    "    record['subject'] = record['email_object']['subject']\n",
    "    records.append(record)\n",
    "\n",
    "if DEBUG: print(\"Type: %s of type: %s, Len %d\" % (type(records), type(records[0]), len(records)))\n",
    "# if DEBUG: print(json.dumps(records[0]))"
   ]
  },
  {
   "cell_type": "code",
   "execution_count": 6,
   "metadata": {},
   "outputs": [
    {
     "name": "stdout",
     "output_type": "stream",
     "text": [
      "<class 'pandas.core.frame.DataFrame'>\n",
      "Int64Index: 100000 entries, 39590 to 53604\n",
      "Data columns (total 10 columns):\n",
      " #   Column              Non-Null Count   Dtype              \n",
      "---  ------              --------------   -----              \n",
      " 0   email_id            100000 non-null  int64              \n",
      " 1   received_timestamp  100000 non-null  datetime64[ns, UTC]\n",
      " 2   email_object        100000 non-null  object             \n",
      " 3   event               64504 non-null   category           \n",
      " 4   label               100000 non-null  category           \n",
      " 5   timestamp           64504 non-null   datetime64[ns, UTC]\n",
      " 6   to                  100000 non-null  object             \n",
      " 7   body                100000 non-null  object             \n",
      " 8   from                100000 non-null  object             \n",
      " 9   subject             100000 non-null  object             \n",
      "dtypes: category(2), datetime64[ns, UTC](2), int64(1), object(5)\n",
      "memory usage: 7.1+ MB\n",
      "None\n"
     ]
    }
   ],
   "source": [
    "# load the data into a dataframe and set proper types\n",
    "df = pd.DataFrame(records)\n",
    "df['received_timestamp'] = pd.to_datetime(df['received_timestamp'], utc=True)\n",
    "df['timestamp'] = pd.to_datetime(df['timestamp'], utc=True)\n",
    "df['label'] = df['label'].astype('category')\n",
    "df['event'] = df['event'].astype('category')\n",
    "df = df.sort_values(by='received_timestamp')\n",
    "df[['to', 'from', 'body', 'subject']] = df[['to', 'from', 'body', 'subject']].fillna(value=\"\")\n",
    "\n",
    "if DEBUG: print(df.info())"
   ]
  },
  {
   "cell_type": "code",
   "execution_count": 7,
   "metadata": {},
   "outputs": [
    {
     "data": {
      "text/html": [
       "<div>\n",
       "<style scoped>\n",
       "    .dataframe tbody tr th:only-of-type {\n",
       "        vertical-align: middle;\n",
       "    }\n",
       "\n",
       "    .dataframe tbody tr th {\n",
       "        vertical-align: top;\n",
       "    }\n",
       "\n",
       "    .dataframe thead th {\n",
       "        text-align: right;\n",
       "    }\n",
       "</style>\n",
       "<table border=\"1\" class=\"dataframe\">\n",
       "  <thead>\n",
       "    <tr style=\"text-align: right;\">\n",
       "      <th></th>\n",
       "      <th>email_id</th>\n",
       "      <th>received_timestamp</th>\n",
       "      <th>email_object</th>\n",
       "      <th>event</th>\n",
       "      <th>label</th>\n",
       "      <th>timestamp</th>\n",
       "      <th>to</th>\n",
       "      <th>body</th>\n",
       "      <th>from</th>\n",
       "      <th>subject</th>\n",
       "    </tr>\n",
       "  </thead>\n",
       "  <tbody>\n",
       "    <tr>\n",
       "      <th>39590</th>\n",
       "      <td>45701</td>\n",
       "      <td>2023-01-11 20:26:26.701000+00:00</td>\n",
       "      <td>{'to': 'the00@speedy.uwaterloo.ca', 'body': '\n",
       "...</td>\n",
       "      <td>email::id::label::put</td>\n",
       "      <td>spam</td>\n",
       "      <td>2023-01-11 20:26:26.741625+00:00</td>\n",
       "      <td>the00@speedy.uwaterloo.ca</td>\n",
       "      <td>\\n\\n\\n\\n\\n\\n\\nDo you feel the pressure to perf...</td>\n",
       "      <td>\"Tomas Jacobs\" &lt;RickyAmes@aol.com&gt;</td>\n",
       "      <td>Generic Cialis, branded quality@</td>\n",
       "    </tr>\n",
       "  </tbody>\n",
       "</table>\n",
       "</div>"
      ],
      "text/plain": [
       "       email_id               received_timestamp  \\\n",
       "39590     45701 2023-01-11 20:26:26.701000+00:00   \n",
       "\n",
       "                                            email_object  \\\n",
       "39590  {'to': 'the00@speedy.uwaterloo.ca', 'body': '\n",
       "...   \n",
       "\n",
       "                       event label                        timestamp  \\\n",
       "39590  email::id::label::put  spam 2023-01-11 20:26:26.741625+00:00   \n",
       "\n",
       "                              to  \\\n",
       "39590  the00@speedy.uwaterloo.ca   \n",
       "\n",
       "                                                    body  \\\n",
       "39590  \\n\\n\\n\\n\\n\\n\\nDo you feel the pressure to perf...   \n",
       "\n",
       "                                     from                            subject  \n",
       "39590  \"Tomas Jacobs\" <RickyAmes@aol.com>  Generic Cialis, branded quality@   "
      ]
     },
     "execution_count": 7,
     "metadata": {},
     "output_type": "execute_result"
    }
   ],
   "source": [
    "df.head(1)"
   ]
  },
  {
   "cell_type": "code",
   "execution_count": 8,
   "metadata": {},
   "outputs": [
    {
     "name": "stdout",
     "output_type": "stream",
     "text": [
      "Train Size: 70000\tValidation Size: 10000\tTest Size: 20000\n"
     ]
    }
   ],
   "source": [
    "# Perform Time Based Split\n",
    "n = len(df)\n",
    "train_amt = int(0.7 * n)\n",
    "test_amt = int(0.2 * n)\n",
    "validation_amt = int(0.1 * n)\n",
    "# split the dataframe by slicing based on index. Only works due to being sorted by time.\n",
    "# training_targets = ['to', 'from', 'body', 'subject']\n",
    "training_targets =['body']\n",
    "train_x = df.iloc[0:train_amt][training_targets]\n",
    "train_y = df.iloc[0:train_amt]['label']\n",
    "validation_x = df.iloc[train_amt:validation_amt + train_amt][training_targets]\n",
    "validation_y = df.iloc[train_amt:validation_amt + train_amt]['label']\n",
    "test_x = df.iloc[train_amt + validation_amt:n][training_targets]\n",
    "test_y = df.iloc[train_amt + validation_amt:n]['label']\n",
    "if DEBUG: print(\"Train Size: %d\\tValidation Size: %d\\tTest Size: %d\" % (len(train_x), len(validation_x), len(test_x)))\n",
    "    "
   ]
  },
  {
   "cell_type": "code",
   "execution_count": 9,
   "metadata": {},
   "outputs": [
    {
     "name": "stdout",
     "output_type": "stream",
     "text": [
      "Original dataset shape Counter({'spam': 45133, 'ham': 24867})\n",
      "Resampled dataset shape Counter({'ham': 24867, 'spam': 24867})\n",
      "(49734,)\n",
      "(49734, 1)\n"
     ]
    }
   ],
   "source": [
    "# Deal with Class Imbalance by undersampling the majority for training\n",
    "y_orig = train_y\n",
    "x_orig = train_x # truncated?\n",
    "if DEBUG: print('Original dataset shape {}'.format(Counter(y_orig)))\n",
    "rus = RandomUnderSampler(random_state=42)\n",
    "x, y = rus.fit_resample(x_orig, y_orig)\n",
    "if DEBUG: print('Resampled dataset shape {}'.format(Counter(y)))\n",
    "train_x = x\n",
    "train_y = y\n",
    "if DEBUG: print(train_y.shape)\n",
    "if DEBUG: print(train_x.shape)"
   ]
  },
  {
   "cell_type": "code",
   "execution_count": 10,
   "metadata": {},
   "outputs": [
    {
     "data": {
      "text/plain": [
       "'\\nPerforming Text Classification\\n\\nGridSearch Params:\\nCountVectorizer parameters,\\nModel types,\\nModel Hyperparameters\\n'"
      ]
     },
     "execution_count": 10,
     "metadata": {},
     "output_type": "execute_result"
    }
   ],
   "source": [
    "\"\"\"\n",
    "Performing Text Classification\n",
    "\n",
    "GridSearch Params:\n",
    "CountVectorizer parameters,\n",
    "Model types,\n",
    "Model Hyperparameters\n",
    "\"\"\""
   ]
  },
  {
   "cell_type": "code",
   "execution_count": 11,
   "metadata": {},
   "outputs": [],
   "source": [
    "# https://stackoverflow.com/questions/65242617/sklearn-pipeline-with-countvectorizer-and-category-on-a-pandas-dataframe\n",
    "# https://towardsdatascience.com/natural-language-processing-on-multiple-columns-in-python-554043e05308\n",
    "# https://stackoverflow.com/a/55401454 for grid search info\n",
    "\n",
    "# Apparently can only countvectorizer on one column... May need to handle the others as categories\n",
    "\n",
    "text_preprocessing1 = Pipeline([\n",
    "    ('Vect', CountVectorizer()),\n",
    "    ('Tsvd', TruncatedSVD(n_components=10))\n",
    "    ])\n",
    "text_preprocessing2 = Pipeline([\n",
    "    ('Vect', CountVectorizer())\n",
    "    ])\n",
    "text_preprocessing3 = Pipeline([\n",
    "    ('Vect', CountVectorizer(stop_words='english', min_df=10)),\n",
    "    ('Tsvd', TruncatedSVD(n_components=10))\n",
    "    ])\n",
    "text_preprocessing4 = Pipeline([\n",
    "    ('Vect', CountVectorizer(stop_words='english', min_df=10))\n",
    "    ])\n",
    "text_preprocessing5 = Pipeline([('BOW', TfidfVectorizer(ngram_range=(1, 3), max_features=1000))])\n",
    "\n",
    "classifier1 = Pipeline([\n",
    "    ('svc', svm.SVC())\n",
    "    ])\n",
    "\n",
    "classifier2 = Pipeline([\n",
    "    ('ridge', RidgeClassifier())\n",
    "    ])\n",
    "\n",
    "classifier3 = Pipeline([\n",
    "    ('rf', RandomForestClassifier())\n",
    "    ])\n",
    "\n",
    "preprocessors = [text_preprocessing1, text_preprocessing2, text_preprocessing3, text_preprocessing4, text_preprocessing5]\n",
    "classifiers = [classifier1, classifier2, classifier3]\n"
   ]
  },
  {
   "cell_type": "code",
   "execution_count": 12,
   "metadata": {},
   "outputs": [
    {
     "name": "stdout",
     "output_type": "stream",
     "text": [
      "(49734, 1)\n",
      "(49734,)\n",
      "(20000, 1)\n",
      "(20000,)\n"
     ]
    }
   ],
   "source": [
    "x_train = train_x\n",
    "y_train = train_y.squeeze()\n",
    "x_test = test_x\n",
    "y_test = test_y\n",
    "print(x_train.shape)\n",
    "print(y_train.shape)\n",
    "print(x_test.shape)\n",
    "print(y_test.shape)"
   ]
  },
  {
   "cell_type": "code",
   "execution_count": 13,
   "metadata": {},
   "outputs": [],
   "source": [
    "if False: # Do Not re-run as the results are in a table below\n",
    "    for preprocessor in preprocessors:\n",
    "        for classifier in classifiers:\n",
    "            \n",
    "            preprocess = ColumnTransformer([\n",
    "                ('txt' + str(0), preprocessor, 'body')\n",
    "                ], remainder='passthrough')\n",
    "\n",
    "            pipeline = Pipeline([\n",
    "                            ('preprocess', preprocess),\n",
    "                            ('clf', classifier)\n",
    "                        ])\n",
    "\n",
    "            print(pipeline)\n",
    "            \n",
    "            pipe = pipeline.fit(x_train, y_train)\n",
    "            y_pred = pipe.predict(x_test)\n",
    "            try:\n",
    "                y_decision = pipe.decision_function(x_test)\n",
    "                print(\"ROC_AUC: %.2f\" % (metrics.roc_auc_score(y_test, y_decision)))\n",
    "            except Exception:\n",
    "                print(\"No Decision function. Using predict_proba\")\n",
    "                y_pred_prob = pipe.predict_proba(x_test)\n",
    "                print(\"ROC_AUC: %.2f\" % (metrics.roc_auc_score(y_test, y_pred_prob[:,1])))\n",
    "            print(\"F1: %.2f\" % (f1_score(y_test, y_pred, pos_label='spam')))\n",
    "            print(\"------------------------------------\")\n",
    "        "
   ]
  },
  {
   "attachments": {},
   "cell_type": "markdown",
   "metadata": {},
   "source": [
    "# Prelim Pipeline Search Results\n",
    "| Preprocessor | Txt Process Had Args? | CLF | ROC AUC | F1 |\n",
    "|--------------|-----------------------|-----|---------|----|\n",
    "| CV + TSVD | No | svc | 0.91 | 0.90 |\n",
    "| CV + TSVD | No | ridge | 0.83 | 0.83 |\n",
    "| CV + TSVD | No | rf | 1.00 | 0.97 |\n",
    "| CV | No | svc | 0.98 | 0.97 |\n",
    "| CV | No | ridge | 1.00 | 0.98 |\n",
    "| CV | No | rf | 1.00 | 0.98 |\n",
    "| CV + TSVD | Yes | svc | 0.89 | 0.91 |\n",
    "| CV + TSVD | Yes | ridge | 0.83 | 0.84 |\n",
    "| CV + TSVD | Yes | rf | 1.00 | 0.97 |\n",
    "| CV | Yes | svc | 0.99 | 0.97 |\n",
    "| CV | Yes | ridge | 0.99 | 0.97 |\n",
    "| CV | Yes | rf | 1.00 | 0.98 |\n",
    "| TFIDF | Yes | svc | 0.98 | 0.98 |\n",
    "| TFIDF | Yes | ridge | 0.99 | 0.97 |\n",
    "| TFIDF | Yes | rf | 1.00 | 0.98 |\n",
    "\n",
    "The above table shows the results of the model and preprocessor semi-grid search that was performed. It shows that RandomForest had an area under the ROC curve of 1 in all cases. It also had a high F1 score. The table shows that TFIDF performed similarly to the CountVectorizer on its own but was much slower. It also showed that adding the TruncatedSVD after the CountVectorizer hurt the accuracy of the model but durastically improved training time. The table showed that the Ridge classifier performed similar to the RandomForest but with slightly faster speeds. Another piece of information of note is that removing the stopwords during the CountVectorizer hurt performance.\n",
    "\n",
    "These results point towards the conclusion that we would want a CountVectorizer with Ridge classifier for the best performance. This does not take time or legibility into account though. For these reasons it is likely better to move forward using a CountVectorizer followed by a TruncatedSVD with a RandomForest classifier."
   ]
  },
  {
   "cell_type": "code",
   "execution_count": 14,
   "metadata": {},
   "outputs": [
    {
     "data": {
      "text/html": [
       "<style>#sk-container-id-1 {color: black;background-color: white;}#sk-container-id-1 pre{padding: 0;}#sk-container-id-1 div.sk-toggleable {background-color: white;}#sk-container-id-1 label.sk-toggleable__label {cursor: pointer;display: block;width: 100%;margin-bottom: 0;padding: 0.3em;box-sizing: border-box;text-align: center;}#sk-container-id-1 label.sk-toggleable__label-arrow:before {content: \"▸\";float: left;margin-right: 0.25em;color: #696969;}#sk-container-id-1 label.sk-toggleable__label-arrow:hover:before {color: black;}#sk-container-id-1 div.sk-estimator:hover label.sk-toggleable__label-arrow:before {color: black;}#sk-container-id-1 div.sk-toggleable__content {max-height: 0;max-width: 0;overflow: hidden;text-align: left;background-color: #f0f8ff;}#sk-container-id-1 div.sk-toggleable__content pre {margin: 0.2em;color: black;border-radius: 0.25em;background-color: #f0f8ff;}#sk-container-id-1 input.sk-toggleable__control:checked~div.sk-toggleable__content {max-height: 200px;max-width: 100%;overflow: auto;}#sk-container-id-1 input.sk-toggleable__control:checked~label.sk-toggleable__label-arrow:before {content: \"▾\";}#sk-container-id-1 div.sk-estimator input.sk-toggleable__control:checked~label.sk-toggleable__label {background-color: #d4ebff;}#sk-container-id-1 div.sk-label input.sk-toggleable__control:checked~label.sk-toggleable__label {background-color: #d4ebff;}#sk-container-id-1 input.sk-hidden--visually {border: 0;clip: rect(1px 1px 1px 1px);clip: rect(1px, 1px, 1px, 1px);height: 1px;margin: -1px;overflow: hidden;padding: 0;position: absolute;width: 1px;}#sk-container-id-1 div.sk-estimator {font-family: monospace;background-color: #f0f8ff;border: 1px dotted black;border-radius: 0.25em;box-sizing: border-box;margin-bottom: 0.5em;}#sk-container-id-1 div.sk-estimator:hover {background-color: #d4ebff;}#sk-container-id-1 div.sk-parallel-item::after {content: \"\";width: 100%;border-bottom: 1px solid gray;flex-grow: 1;}#sk-container-id-1 div.sk-label:hover label.sk-toggleable__label {background-color: #d4ebff;}#sk-container-id-1 div.sk-serial::before {content: \"\";position: absolute;border-left: 1px solid gray;box-sizing: border-box;top: 0;bottom: 0;left: 50%;z-index: 0;}#sk-container-id-1 div.sk-serial {display: flex;flex-direction: column;align-items: center;background-color: white;padding-right: 0.2em;padding-left: 0.2em;position: relative;}#sk-container-id-1 div.sk-item {position: relative;z-index: 1;}#sk-container-id-1 div.sk-parallel {display: flex;align-items: stretch;justify-content: center;background-color: white;position: relative;}#sk-container-id-1 div.sk-item::before, #sk-container-id-1 div.sk-parallel-item::before {content: \"\";position: absolute;border-left: 1px solid gray;box-sizing: border-box;top: 0;bottom: 0;left: 50%;z-index: -1;}#sk-container-id-1 div.sk-parallel-item {display: flex;flex-direction: column;z-index: 1;position: relative;background-color: white;}#sk-container-id-1 div.sk-parallel-item:first-child::after {align-self: flex-end;width: 50%;}#sk-container-id-1 div.sk-parallel-item:last-child::after {align-self: flex-start;width: 50%;}#sk-container-id-1 div.sk-parallel-item:only-child::after {width: 0;}#sk-container-id-1 div.sk-dashed-wrapped {border: 1px dashed gray;margin: 0 0.4em 0.5em 0.4em;box-sizing: border-box;padding-bottom: 0.4em;background-color: white;}#sk-container-id-1 div.sk-label label {font-family: monospace;font-weight: bold;display: inline-block;line-height: 1.2em;}#sk-container-id-1 div.sk-label-container {text-align: center;}#sk-container-id-1 div.sk-container {/* jupyter's `normalize.less` sets `[hidden] { display: none; }` but bootstrap.min.css set `[hidden] { display: none !important; }` so we also need the `!important` here to be able to override the default hidden behavior on the sphinx rendered scikit-learn.org. See: https://github.com/scikit-learn/scikit-learn/issues/21755 */display: inline-block !important;position: relative;}#sk-container-id-1 div.sk-text-repr-fallback {display: none;}</style><div id=\"sk-container-id-1\" class=\"sk-top-container\"><div class=\"sk-text-repr-fallback\"><pre>Pipeline(steps=[(&#x27;pre&#x27;,\n",
       "                 ColumnTransformer(remainder=&#x27;passthrough&#x27;,\n",
       "                                   transformers=[(&#x27;pre&#x27;,\n",
       "                                                  Pipeline(steps=[(&#x27;Vect&#x27;,\n",
       "                                                                   CountVectorizer()),\n",
       "                                                                  (&#x27;Tsvd&#x27;,\n",
       "                                                                   TruncatedSVD(n_components=10))]),\n",
       "                                                  &#x27;body&#x27;)])),\n",
       "                (&#x27;rf&#x27;, RandomForestClassifier())])</pre><b>In a Jupyter environment, please rerun this cell to show the HTML representation or trust the notebook. <br />On GitHub, the HTML representation is unable to render, please try loading this page with nbviewer.org.</b></div><div class=\"sk-container\" hidden><div class=\"sk-item sk-dashed-wrapped\"><div class=\"sk-label-container\"><div class=\"sk-label sk-toggleable\"><input class=\"sk-toggleable__control sk-hidden--visually\" id=\"sk-estimator-id-1\" type=\"checkbox\" ><label for=\"sk-estimator-id-1\" class=\"sk-toggleable__label sk-toggleable__label-arrow\">Pipeline</label><div class=\"sk-toggleable__content\"><pre>Pipeline(steps=[(&#x27;pre&#x27;,\n",
       "                 ColumnTransformer(remainder=&#x27;passthrough&#x27;,\n",
       "                                   transformers=[(&#x27;pre&#x27;,\n",
       "                                                  Pipeline(steps=[(&#x27;Vect&#x27;,\n",
       "                                                                   CountVectorizer()),\n",
       "                                                                  (&#x27;Tsvd&#x27;,\n",
       "                                                                   TruncatedSVD(n_components=10))]),\n",
       "                                                  &#x27;body&#x27;)])),\n",
       "                (&#x27;rf&#x27;, RandomForestClassifier())])</pre></div></div></div><div class=\"sk-serial\"><div class=\"sk-item sk-dashed-wrapped\"><div class=\"sk-label-container\"><div class=\"sk-label sk-toggleable\"><input class=\"sk-toggleable__control sk-hidden--visually\" id=\"sk-estimator-id-2\" type=\"checkbox\" ><label for=\"sk-estimator-id-2\" class=\"sk-toggleable__label sk-toggleable__label-arrow\">pre: ColumnTransformer</label><div class=\"sk-toggleable__content\"><pre>ColumnTransformer(remainder=&#x27;passthrough&#x27;,\n",
       "                  transformers=[(&#x27;pre&#x27;,\n",
       "                                 Pipeline(steps=[(&#x27;Vect&#x27;, CountVectorizer()),\n",
       "                                                 (&#x27;Tsvd&#x27;,\n",
       "                                                  TruncatedSVD(n_components=10))]),\n",
       "                                 &#x27;body&#x27;)])</pre></div></div></div><div class=\"sk-parallel\"><div class=\"sk-parallel-item\"><div class=\"sk-item\"><div class=\"sk-label-container\"><div class=\"sk-label sk-toggleable\"><input class=\"sk-toggleable__control sk-hidden--visually\" id=\"sk-estimator-id-3\" type=\"checkbox\" ><label for=\"sk-estimator-id-3\" class=\"sk-toggleable__label sk-toggleable__label-arrow\">pre</label><div class=\"sk-toggleable__content\"><pre>body</pre></div></div></div><div class=\"sk-serial\"><div class=\"sk-item\"><div class=\"sk-serial\"><div class=\"sk-item\"><div class=\"sk-estimator sk-toggleable\"><input class=\"sk-toggleable__control sk-hidden--visually\" id=\"sk-estimator-id-4\" type=\"checkbox\" ><label for=\"sk-estimator-id-4\" class=\"sk-toggleable__label sk-toggleable__label-arrow\">CountVectorizer</label><div class=\"sk-toggleable__content\"><pre>CountVectorizer()</pre></div></div></div><div class=\"sk-item\"><div class=\"sk-estimator sk-toggleable\"><input class=\"sk-toggleable__control sk-hidden--visually\" id=\"sk-estimator-id-5\" type=\"checkbox\" ><label for=\"sk-estimator-id-5\" class=\"sk-toggleable__label sk-toggleable__label-arrow\">TruncatedSVD</label><div class=\"sk-toggleable__content\"><pre>TruncatedSVD(n_components=10)</pre></div></div></div></div></div></div></div></div><div class=\"sk-parallel-item\"><div class=\"sk-item\"><div class=\"sk-label-container\"><div class=\"sk-label sk-toggleable\"><input class=\"sk-toggleable__control sk-hidden--visually\" id=\"sk-estimator-id-6\" type=\"checkbox\" ><label for=\"sk-estimator-id-6\" class=\"sk-toggleable__label sk-toggleable__label-arrow\">remainder</label><div class=\"sk-toggleable__content\"><pre></pre></div></div></div><div class=\"sk-serial\"><div class=\"sk-item\"><div class=\"sk-estimator sk-toggleable\"><input class=\"sk-toggleable__control sk-hidden--visually\" id=\"sk-estimator-id-7\" type=\"checkbox\" ><label for=\"sk-estimator-id-7\" class=\"sk-toggleable__label sk-toggleable__label-arrow\">passthrough</label><div class=\"sk-toggleable__content\"><pre>passthrough</pre></div></div></div></div></div></div></div></div><div class=\"sk-item\"><div class=\"sk-estimator sk-toggleable\"><input class=\"sk-toggleable__control sk-hidden--visually\" id=\"sk-estimator-id-8\" type=\"checkbox\" ><label for=\"sk-estimator-id-8\" class=\"sk-toggleable__label sk-toggleable__label-arrow\">RandomForestClassifier</label><div class=\"sk-toggleable__content\"><pre>RandomForestClassifier()</pre></div></div></div></div></div></div></div>"
      ],
      "text/plain": [
       "Pipeline(steps=[('pre',\n",
       "                 ColumnTransformer(remainder='passthrough',\n",
       "                                   transformers=[('pre',\n",
       "                                                  Pipeline(steps=[('Vect',\n",
       "                                                                   CountVectorizer()),\n",
       "                                                                  ('Tsvd',\n",
       "                                                                   TruncatedSVD(n_components=10))]),\n",
       "                                                  'body')])),\n",
       "                ('rf', RandomForestClassifier())])"
      ]
     },
     "execution_count": 14,
     "metadata": {},
     "output_type": "execute_result"
    }
   ],
   "source": [
    "\n",
    "text_preprocessing = Pipeline([\n",
    "    ('Vect', CountVectorizer()),\n",
    "    ('Tsvd', TruncatedSVD(n_components=10))\n",
    "    ])\n",
    "preprocess = ColumnTransformer([('pre', text_preprocessing, 'body')], remainder='passthrough')\n",
    "# classifier = Pipeline([('ridge', RidgeClassifier())])\n",
    "# classifier = Pipeline([('svc', svm.SVC())])\n",
    "# classifier = Pipeline([('rf', RandomForestClassifier())])\n",
    "# pipeline = Pipeline([\n",
    "#                         ('preprocess', preprocess),\n",
    "#                         ('clf', classifier)\n",
    "#                     ])\n",
    "pipeline = Pipeline([\n",
    "                        ('pre', preprocess),\n",
    "                        ('rf', RandomForestClassifier())\n",
    "                    ])\n",
    "\n",
    "pipeline"
   ]
  },
  {
   "cell_type": "code",
   "execution_count": 15,
   "metadata": {},
   "outputs": [
    {
     "name": "stdout",
     "output_type": "stream",
     "text": [
      "Fitting 2 folds for each of 4 candidates, totalling 8 fits\n"
     ]
    },
    {
     "data": {
      "text/plain": [
       "{'rf__max_depth': None,\n",
       " 'rf__min_samples_split': 2,\n",
       " 'rf__n_estimators': 1000,\n",
       " 'rf__n_jobs': -1,\n",
       " 'rf__random_state': 42}"
      ]
     },
     "execution_count": 15,
     "metadata": {},
     "output_type": "execute_result"
    }
   ],
   "source": [
    "# parameters = {\n",
    "#   'rf__n_estimators':[1,10,100,1000],\n",
    "#   'rf__min_samples_split': [2,3,4,5],\n",
    "#   'rf__criterion': ['gini', 'entropy', 'log_loss'],\n",
    "#   'rf__max_depth': [None, 10, 100],\n",
    "#   'rf__max_features': [None, 'sqrt', 'log2'],\n",
    "#   'rf__n_jobs': [-1],\n",
    "#   'rf__random_state': [42]\n",
    "#   }\n",
    "run = 'short'\n",
    "parameters = {}\n",
    "if run == 'short':\n",
    "  parameters = {\n",
    "    'rf__n_estimators':[100,1000],\n",
    "    'rf__min_samples_split': [2,4],\n",
    "    'rf__max_depth': [None],\n",
    "    'rf__n_jobs': [-1],\n",
    "    'rf__random_state': [42]\n",
    "    }\n",
    "else:\n",
    "  parameters = {\n",
    "    'rf__n_estimators':[1,10,100,1000],\n",
    "    'rf__min_samples_split': [2,3,4],\n",
    "    'rf__max_depth': [None, 10, 100],\n",
    "    'rf__n_jobs': [-1],\n",
    "    'rf__random_state': [42]\n",
    "    }\n",
    "# initialize\n",
    "grid_pipeline = GridSearchCV(pipeline, parameters, cv=2, verbose=10, n_jobs=-1, scoring='roc_auc')\n",
    "# fit\n",
    "grid_pipeline.fit(x_train, y_train)\n",
    "grid_pipeline.best_params_"
   ]
  },
  {
   "cell_type": "code",
   "execution_count": 16,
   "metadata": {},
   "outputs": [
    {
     "name": "stdout",
     "output_type": "stream",
     "text": [
      "No Decision function. Using predict_proba\n",
      "ROC_AUC: 1.00\n",
      "F1: 0.97\n",
      "Accuracy: 0.96\n",
      "Precision: 0.96\n",
      "Recall: 0.96\n",
      "------------------------------------\n"
     ]
    }
   ],
   "source": [
    "\n",
    "# pipe = pipeline.fit(x_train, y_train)\n",
    "# print(pipeline.score(x_train, y_train))\n",
    "\n",
    "pipe = grid_pipeline\n",
    "\n",
    "y_pred = pipe.predict(x_test)\n",
    "try:\n",
    "    y_decision = pipe.decision_function(x_test)\n",
    "    print(\"ROC_AUC: %.2f\" % (metrics.roc_auc_score(y_test, y_decision)))\n",
    "except Exception:\n",
    "    print(\"No Decision function. Using predict_proba\")\n",
    "    y_pred_prob = pipe.predict_proba(x_test)\n",
    "    print(\"ROC_AUC: %.2f\" % (metrics.roc_auc_score(y_test, y_pred_prob[:,1])))\n",
    "print(\"F1: %.2f\" % (f1_score(y_test, y_pred, pos_label='spam')))\n",
    "print(\"Accuracy: %.2f\" % (metrics.accuracy_score(y_test, y_pred)))\n",
    "print(\"Precision: %.2f\" % (metrics.precision_score(y_test, y_pred, average='weighted', zero_division=0)))\n",
    "print(\"Recall: %.2f\" % (metrics.recall_score(y_test, y_pred, average='weighted')))\n",
    "print(\"------------------------------------\")"
   ]
  },
  {
   "cell_type": "code",
   "execution_count": 17,
   "metadata": {},
   "outputs": [
    {
     "data": {
      "text/plain": [
       "{'rf__max_depth': None,\n",
       " 'rf__min_samples_split': 2,\n",
       " 'rf__n_estimators': 1000,\n",
       " 'rf__n_jobs': -1,\n",
       " 'rf__random_state': 42}"
      ]
     },
     "execution_count": 17,
     "metadata": {},
     "output_type": "execute_result"
    }
   ],
   "source": [
    "params = grid_pipeline.best_params_\n",
    "params"
   ]
  },
  {
   "cell_type": "code",
   "execution_count": 18,
   "metadata": {},
   "outputs": [],
   "source": [
    "best_params = {'rf__max_depth': None,\n",
    " 'rf__min_samples_split': 2,\n",
    " 'rf__n_estimators': 1000,\n",
    " 'rf__n_jobs': -1,\n",
    " 'rf__random_state': 42}"
   ]
  },
  {
   "cell_type": "code",
   "execution_count": 19,
   "metadata": {},
   "outputs": [
    {
     "data": {
      "text/html": [
       "<style>#sk-container-id-2 {color: black;background-color: white;}#sk-container-id-2 pre{padding: 0;}#sk-container-id-2 div.sk-toggleable {background-color: white;}#sk-container-id-2 label.sk-toggleable__label {cursor: pointer;display: block;width: 100%;margin-bottom: 0;padding: 0.3em;box-sizing: border-box;text-align: center;}#sk-container-id-2 label.sk-toggleable__label-arrow:before {content: \"▸\";float: left;margin-right: 0.25em;color: #696969;}#sk-container-id-2 label.sk-toggleable__label-arrow:hover:before {color: black;}#sk-container-id-2 div.sk-estimator:hover label.sk-toggleable__label-arrow:before {color: black;}#sk-container-id-2 div.sk-toggleable__content {max-height: 0;max-width: 0;overflow: hidden;text-align: left;background-color: #f0f8ff;}#sk-container-id-2 div.sk-toggleable__content pre {margin: 0.2em;color: black;border-radius: 0.25em;background-color: #f0f8ff;}#sk-container-id-2 input.sk-toggleable__control:checked~div.sk-toggleable__content {max-height: 200px;max-width: 100%;overflow: auto;}#sk-container-id-2 input.sk-toggleable__control:checked~label.sk-toggleable__label-arrow:before {content: \"▾\";}#sk-container-id-2 div.sk-estimator input.sk-toggleable__control:checked~label.sk-toggleable__label {background-color: #d4ebff;}#sk-container-id-2 div.sk-label input.sk-toggleable__control:checked~label.sk-toggleable__label {background-color: #d4ebff;}#sk-container-id-2 input.sk-hidden--visually {border: 0;clip: rect(1px 1px 1px 1px);clip: rect(1px, 1px, 1px, 1px);height: 1px;margin: -1px;overflow: hidden;padding: 0;position: absolute;width: 1px;}#sk-container-id-2 div.sk-estimator {font-family: monospace;background-color: #f0f8ff;border: 1px dotted black;border-radius: 0.25em;box-sizing: border-box;margin-bottom: 0.5em;}#sk-container-id-2 div.sk-estimator:hover {background-color: #d4ebff;}#sk-container-id-2 div.sk-parallel-item::after {content: \"\";width: 100%;border-bottom: 1px solid gray;flex-grow: 1;}#sk-container-id-2 div.sk-label:hover label.sk-toggleable__label {background-color: #d4ebff;}#sk-container-id-2 div.sk-serial::before {content: \"\";position: absolute;border-left: 1px solid gray;box-sizing: border-box;top: 0;bottom: 0;left: 50%;z-index: 0;}#sk-container-id-2 div.sk-serial {display: flex;flex-direction: column;align-items: center;background-color: white;padding-right: 0.2em;padding-left: 0.2em;position: relative;}#sk-container-id-2 div.sk-item {position: relative;z-index: 1;}#sk-container-id-2 div.sk-parallel {display: flex;align-items: stretch;justify-content: center;background-color: white;position: relative;}#sk-container-id-2 div.sk-item::before, #sk-container-id-2 div.sk-parallel-item::before {content: \"\";position: absolute;border-left: 1px solid gray;box-sizing: border-box;top: 0;bottom: 0;left: 50%;z-index: -1;}#sk-container-id-2 div.sk-parallel-item {display: flex;flex-direction: column;z-index: 1;position: relative;background-color: white;}#sk-container-id-2 div.sk-parallel-item:first-child::after {align-self: flex-end;width: 50%;}#sk-container-id-2 div.sk-parallel-item:last-child::after {align-self: flex-start;width: 50%;}#sk-container-id-2 div.sk-parallel-item:only-child::after {width: 0;}#sk-container-id-2 div.sk-dashed-wrapped {border: 1px dashed gray;margin: 0 0.4em 0.5em 0.4em;box-sizing: border-box;padding-bottom: 0.4em;background-color: white;}#sk-container-id-2 div.sk-label label {font-family: monospace;font-weight: bold;display: inline-block;line-height: 1.2em;}#sk-container-id-2 div.sk-label-container {text-align: center;}#sk-container-id-2 div.sk-container {/* jupyter's `normalize.less` sets `[hidden] { display: none; }` but bootstrap.min.css set `[hidden] { display: none !important; }` so we also need the `!important` here to be able to override the default hidden behavior on the sphinx rendered scikit-learn.org. See: https://github.com/scikit-learn/scikit-learn/issues/21755 */display: inline-block !important;position: relative;}#sk-container-id-2 div.sk-text-repr-fallback {display: none;}</style><div id=\"sk-container-id-2\" class=\"sk-top-container\"><div class=\"sk-text-repr-fallback\"><pre>Pipeline(steps=[(&#x27;pre&#x27;,\n",
       "                 ColumnTransformer(remainder=&#x27;passthrough&#x27;,\n",
       "                                   transformers=[(&#x27;pre&#x27;,\n",
       "                                                  Pipeline(steps=[(&#x27;Vect&#x27;,\n",
       "                                                                   CountVectorizer()),\n",
       "                                                                  (&#x27;Tsvd&#x27;,\n",
       "                                                                   TruncatedSVD(n_components=10))]),\n",
       "                                                  &#x27;body&#x27;)])),\n",
       "                (&#x27;rf&#x27;,\n",
       "                 RandomForestClassifier(n_estimators=1000, n_jobs=-1,\n",
       "                                        random_state=42))])</pre><b>In a Jupyter environment, please rerun this cell to show the HTML representation or trust the notebook. <br />On GitHub, the HTML representation is unable to render, please try loading this page with nbviewer.org.</b></div><div class=\"sk-container\" hidden><div class=\"sk-item sk-dashed-wrapped\"><div class=\"sk-label-container\"><div class=\"sk-label sk-toggleable\"><input class=\"sk-toggleable__control sk-hidden--visually\" id=\"sk-estimator-id-9\" type=\"checkbox\" ><label for=\"sk-estimator-id-9\" class=\"sk-toggleable__label sk-toggleable__label-arrow\">Pipeline</label><div class=\"sk-toggleable__content\"><pre>Pipeline(steps=[(&#x27;pre&#x27;,\n",
       "                 ColumnTransformer(remainder=&#x27;passthrough&#x27;,\n",
       "                                   transformers=[(&#x27;pre&#x27;,\n",
       "                                                  Pipeline(steps=[(&#x27;Vect&#x27;,\n",
       "                                                                   CountVectorizer()),\n",
       "                                                                  (&#x27;Tsvd&#x27;,\n",
       "                                                                   TruncatedSVD(n_components=10))]),\n",
       "                                                  &#x27;body&#x27;)])),\n",
       "                (&#x27;rf&#x27;,\n",
       "                 RandomForestClassifier(n_estimators=1000, n_jobs=-1,\n",
       "                                        random_state=42))])</pre></div></div></div><div class=\"sk-serial\"><div class=\"sk-item sk-dashed-wrapped\"><div class=\"sk-label-container\"><div class=\"sk-label sk-toggleable\"><input class=\"sk-toggleable__control sk-hidden--visually\" id=\"sk-estimator-id-10\" type=\"checkbox\" ><label for=\"sk-estimator-id-10\" class=\"sk-toggleable__label sk-toggleable__label-arrow\">pre: ColumnTransformer</label><div class=\"sk-toggleable__content\"><pre>ColumnTransformer(remainder=&#x27;passthrough&#x27;,\n",
       "                  transformers=[(&#x27;pre&#x27;,\n",
       "                                 Pipeline(steps=[(&#x27;Vect&#x27;, CountVectorizer()),\n",
       "                                                 (&#x27;Tsvd&#x27;,\n",
       "                                                  TruncatedSVD(n_components=10))]),\n",
       "                                 &#x27;body&#x27;)])</pre></div></div></div><div class=\"sk-parallel\"><div class=\"sk-parallel-item\"><div class=\"sk-item\"><div class=\"sk-label-container\"><div class=\"sk-label sk-toggleable\"><input class=\"sk-toggleable__control sk-hidden--visually\" id=\"sk-estimator-id-11\" type=\"checkbox\" ><label for=\"sk-estimator-id-11\" class=\"sk-toggleable__label sk-toggleable__label-arrow\">pre</label><div class=\"sk-toggleable__content\"><pre>body</pre></div></div></div><div class=\"sk-serial\"><div class=\"sk-item\"><div class=\"sk-serial\"><div class=\"sk-item\"><div class=\"sk-estimator sk-toggleable\"><input class=\"sk-toggleable__control sk-hidden--visually\" id=\"sk-estimator-id-12\" type=\"checkbox\" ><label for=\"sk-estimator-id-12\" class=\"sk-toggleable__label sk-toggleable__label-arrow\">CountVectorizer</label><div class=\"sk-toggleable__content\"><pre>CountVectorizer()</pre></div></div></div><div class=\"sk-item\"><div class=\"sk-estimator sk-toggleable\"><input class=\"sk-toggleable__control sk-hidden--visually\" id=\"sk-estimator-id-13\" type=\"checkbox\" ><label for=\"sk-estimator-id-13\" class=\"sk-toggleable__label sk-toggleable__label-arrow\">TruncatedSVD</label><div class=\"sk-toggleable__content\"><pre>TruncatedSVD(n_components=10)</pre></div></div></div></div></div></div></div></div><div class=\"sk-parallel-item\"><div class=\"sk-item\"><div class=\"sk-label-container\"><div class=\"sk-label sk-toggleable\"><input class=\"sk-toggleable__control sk-hidden--visually\" id=\"sk-estimator-id-14\" type=\"checkbox\" ><label for=\"sk-estimator-id-14\" class=\"sk-toggleable__label sk-toggleable__label-arrow\">remainder</label><div class=\"sk-toggleable__content\"><pre>[]</pre></div></div></div><div class=\"sk-serial\"><div class=\"sk-item\"><div class=\"sk-estimator sk-toggleable\"><input class=\"sk-toggleable__control sk-hidden--visually\" id=\"sk-estimator-id-15\" type=\"checkbox\" ><label for=\"sk-estimator-id-15\" class=\"sk-toggleable__label sk-toggleable__label-arrow\">passthrough</label><div class=\"sk-toggleable__content\"><pre>passthrough</pre></div></div></div></div></div></div></div></div><div class=\"sk-item\"><div class=\"sk-estimator sk-toggleable\"><input class=\"sk-toggleable__control sk-hidden--visually\" id=\"sk-estimator-id-16\" type=\"checkbox\" ><label for=\"sk-estimator-id-16\" class=\"sk-toggleable__label sk-toggleable__label-arrow\">RandomForestClassifier</label><div class=\"sk-toggleable__content\"><pre>RandomForestClassifier(n_estimators=1000, n_jobs=-1, random_state=42)</pre></div></div></div></div></div></div></div>"
      ],
      "text/plain": [
       "Pipeline(steps=[('pre',\n",
       "                 ColumnTransformer(remainder='passthrough',\n",
       "                                   transformers=[('pre',\n",
       "                                                  Pipeline(steps=[('Vect',\n",
       "                                                                   CountVectorizer()),\n",
       "                                                                  ('Tsvd',\n",
       "                                                                   TruncatedSVD(n_components=10))]),\n",
       "                                                  'body')])),\n",
       "                ('rf',\n",
       "                 RandomForestClassifier(n_estimators=1000, n_jobs=-1,\n",
       "                                        random_state=42))])"
      ]
     },
     "execution_count": 19,
     "metadata": {},
     "output_type": "execute_result"
    }
   ],
   "source": [
    "grid_pipeline.best_estimator_"
   ]
  },
  {
   "cell_type": "code",
   "execution_count": 20,
   "metadata": {},
   "outputs": [
    {
     "data": {
      "text/plain": [
       "0.9825927773897527"
      ]
     },
     "execution_count": 20,
     "metadata": {},
     "output_type": "execute_result"
    }
   ],
   "source": [
    "grid_pipeline.best_score_"
   ]
  },
  {
   "attachments": {},
   "cell_type": "markdown",
   "metadata": {},
   "source": [
    "# Part 2: Offline Model Development Training\n",
    "Write a script that will train a model on all of the available. Data and save the resulting model to a file.  The script should take the parameters JSON file along with the Minio logs as input.  The output should be a pickle file containing the serialized transformer and model objects and metadata such as the parameters used, date ranges for the input data and class balance metrics.  Make sure that you include any transformers (e.g., CountVectorizer, StandardScaler) when you pickle the state of the trained model.  Put the current date and time in the filename to allow multiple models to coexist.  Upload the model file to Minio."
   ]
  },
  {
   "cell_type": "code",
   "execution_count": 24,
   "metadata": {},
   "outputs": [
    {
     "name": "stdout",
     "output_type": "stream",
     "text": [
      "(100000, 1)\n",
      "(100000,)\n",
      "Original dataset shape Counter({'spam': 64504, 'ham': 35496})\n",
      "Resampled dataset shape Counter({'ham': 35496, 'spam': 35496})\n"
     ]
    },
    {
     "data": {
      "text/html": [
       "<style>#sk-container-id-3 {color: black;background-color: white;}#sk-container-id-3 pre{padding: 0;}#sk-container-id-3 div.sk-toggleable {background-color: white;}#sk-container-id-3 label.sk-toggleable__label {cursor: pointer;display: block;width: 100%;margin-bottom: 0;padding: 0.3em;box-sizing: border-box;text-align: center;}#sk-container-id-3 label.sk-toggleable__label-arrow:before {content: \"▸\";float: left;margin-right: 0.25em;color: #696969;}#sk-container-id-3 label.sk-toggleable__label-arrow:hover:before {color: black;}#sk-container-id-3 div.sk-estimator:hover label.sk-toggleable__label-arrow:before {color: black;}#sk-container-id-3 div.sk-toggleable__content {max-height: 0;max-width: 0;overflow: hidden;text-align: left;background-color: #f0f8ff;}#sk-container-id-3 div.sk-toggleable__content pre {margin: 0.2em;color: black;border-radius: 0.25em;background-color: #f0f8ff;}#sk-container-id-3 input.sk-toggleable__control:checked~div.sk-toggleable__content {max-height: 200px;max-width: 100%;overflow: auto;}#sk-container-id-3 input.sk-toggleable__control:checked~label.sk-toggleable__label-arrow:before {content: \"▾\";}#sk-container-id-3 div.sk-estimator input.sk-toggleable__control:checked~label.sk-toggleable__label {background-color: #d4ebff;}#sk-container-id-3 div.sk-label input.sk-toggleable__control:checked~label.sk-toggleable__label {background-color: #d4ebff;}#sk-container-id-3 input.sk-hidden--visually {border: 0;clip: rect(1px 1px 1px 1px);clip: rect(1px, 1px, 1px, 1px);height: 1px;margin: -1px;overflow: hidden;padding: 0;position: absolute;width: 1px;}#sk-container-id-3 div.sk-estimator {font-family: monospace;background-color: #f0f8ff;border: 1px dotted black;border-radius: 0.25em;box-sizing: border-box;margin-bottom: 0.5em;}#sk-container-id-3 div.sk-estimator:hover {background-color: #d4ebff;}#sk-container-id-3 div.sk-parallel-item::after {content: \"\";width: 100%;border-bottom: 1px solid gray;flex-grow: 1;}#sk-container-id-3 div.sk-label:hover label.sk-toggleable__label {background-color: #d4ebff;}#sk-container-id-3 div.sk-serial::before {content: \"\";position: absolute;border-left: 1px solid gray;box-sizing: border-box;top: 0;bottom: 0;left: 50%;z-index: 0;}#sk-container-id-3 div.sk-serial {display: flex;flex-direction: column;align-items: center;background-color: white;padding-right: 0.2em;padding-left: 0.2em;position: relative;}#sk-container-id-3 div.sk-item {position: relative;z-index: 1;}#sk-container-id-3 div.sk-parallel {display: flex;align-items: stretch;justify-content: center;background-color: white;position: relative;}#sk-container-id-3 div.sk-item::before, #sk-container-id-3 div.sk-parallel-item::before {content: \"\";position: absolute;border-left: 1px solid gray;box-sizing: border-box;top: 0;bottom: 0;left: 50%;z-index: -1;}#sk-container-id-3 div.sk-parallel-item {display: flex;flex-direction: column;z-index: 1;position: relative;background-color: white;}#sk-container-id-3 div.sk-parallel-item:first-child::after {align-self: flex-end;width: 50%;}#sk-container-id-3 div.sk-parallel-item:last-child::after {align-self: flex-start;width: 50%;}#sk-container-id-3 div.sk-parallel-item:only-child::after {width: 0;}#sk-container-id-3 div.sk-dashed-wrapped {border: 1px dashed gray;margin: 0 0.4em 0.5em 0.4em;box-sizing: border-box;padding-bottom: 0.4em;background-color: white;}#sk-container-id-3 div.sk-label label {font-family: monospace;font-weight: bold;display: inline-block;line-height: 1.2em;}#sk-container-id-3 div.sk-label-container {text-align: center;}#sk-container-id-3 div.sk-container {/* jupyter's `normalize.less` sets `[hidden] { display: none; }` but bootstrap.min.css set `[hidden] { display: none !important; }` so we also need the `!important` here to be able to override the default hidden behavior on the sphinx rendered scikit-learn.org. See: https://github.com/scikit-learn/scikit-learn/issues/21755 */display: inline-block !important;position: relative;}#sk-container-id-3 div.sk-text-repr-fallback {display: none;}</style><div id=\"sk-container-id-3\" class=\"sk-top-container\"><div class=\"sk-text-repr-fallback\"><pre>Pipeline(steps=[(&#x27;pre&#x27;,\n",
       "                 ColumnTransformer(remainder=&#x27;passthrough&#x27;,\n",
       "                                   transformers=[(&#x27;pre&#x27;,\n",
       "                                                  Pipeline(steps=[(&#x27;Vect&#x27;,\n",
       "                                                                   CountVectorizer()),\n",
       "                                                                  (&#x27;Tsvd&#x27;,\n",
       "                                                                   TruncatedSVD(n_components=10))]),\n",
       "                                                  &#x27;body&#x27;)])),\n",
       "                (&#x27;rf&#x27;,\n",
       "                 RandomForestClassifier(n_estimators=1000, n_jobs=-1,\n",
       "                                        random_state=42))])</pre><b>In a Jupyter environment, please rerun this cell to show the HTML representation or trust the notebook. <br />On GitHub, the HTML representation is unable to render, please try loading this page with nbviewer.org.</b></div><div class=\"sk-container\" hidden><div class=\"sk-item sk-dashed-wrapped\"><div class=\"sk-label-container\"><div class=\"sk-label sk-toggleable\"><input class=\"sk-toggleable__control sk-hidden--visually\" id=\"sk-estimator-id-17\" type=\"checkbox\" ><label for=\"sk-estimator-id-17\" class=\"sk-toggleable__label sk-toggleable__label-arrow\">Pipeline</label><div class=\"sk-toggleable__content\"><pre>Pipeline(steps=[(&#x27;pre&#x27;,\n",
       "                 ColumnTransformer(remainder=&#x27;passthrough&#x27;,\n",
       "                                   transformers=[(&#x27;pre&#x27;,\n",
       "                                                  Pipeline(steps=[(&#x27;Vect&#x27;,\n",
       "                                                                   CountVectorizer()),\n",
       "                                                                  (&#x27;Tsvd&#x27;,\n",
       "                                                                   TruncatedSVD(n_components=10))]),\n",
       "                                                  &#x27;body&#x27;)])),\n",
       "                (&#x27;rf&#x27;,\n",
       "                 RandomForestClassifier(n_estimators=1000, n_jobs=-1,\n",
       "                                        random_state=42))])</pre></div></div></div><div class=\"sk-serial\"><div class=\"sk-item sk-dashed-wrapped\"><div class=\"sk-label-container\"><div class=\"sk-label sk-toggleable\"><input class=\"sk-toggleable__control sk-hidden--visually\" id=\"sk-estimator-id-18\" type=\"checkbox\" ><label for=\"sk-estimator-id-18\" class=\"sk-toggleable__label sk-toggleable__label-arrow\">pre: ColumnTransformer</label><div class=\"sk-toggleable__content\"><pre>ColumnTransformer(remainder=&#x27;passthrough&#x27;,\n",
       "                  transformers=[(&#x27;pre&#x27;,\n",
       "                                 Pipeline(steps=[(&#x27;Vect&#x27;, CountVectorizer()),\n",
       "                                                 (&#x27;Tsvd&#x27;,\n",
       "                                                  TruncatedSVD(n_components=10))]),\n",
       "                                 &#x27;body&#x27;)])</pre></div></div></div><div class=\"sk-parallel\"><div class=\"sk-parallel-item\"><div class=\"sk-item\"><div class=\"sk-label-container\"><div class=\"sk-label sk-toggleable\"><input class=\"sk-toggleable__control sk-hidden--visually\" id=\"sk-estimator-id-19\" type=\"checkbox\" ><label for=\"sk-estimator-id-19\" class=\"sk-toggleable__label sk-toggleable__label-arrow\">pre</label><div class=\"sk-toggleable__content\"><pre>body</pre></div></div></div><div class=\"sk-serial\"><div class=\"sk-item\"><div class=\"sk-serial\"><div class=\"sk-item\"><div class=\"sk-estimator sk-toggleable\"><input class=\"sk-toggleable__control sk-hidden--visually\" id=\"sk-estimator-id-20\" type=\"checkbox\" ><label for=\"sk-estimator-id-20\" class=\"sk-toggleable__label sk-toggleable__label-arrow\">CountVectorizer</label><div class=\"sk-toggleable__content\"><pre>CountVectorizer()</pre></div></div></div><div class=\"sk-item\"><div class=\"sk-estimator sk-toggleable\"><input class=\"sk-toggleable__control sk-hidden--visually\" id=\"sk-estimator-id-21\" type=\"checkbox\" ><label for=\"sk-estimator-id-21\" class=\"sk-toggleable__label sk-toggleable__label-arrow\">TruncatedSVD</label><div class=\"sk-toggleable__content\"><pre>TruncatedSVD(n_components=10)</pre></div></div></div></div></div></div></div></div><div class=\"sk-parallel-item\"><div class=\"sk-item\"><div class=\"sk-label-container\"><div class=\"sk-label sk-toggleable\"><input class=\"sk-toggleable__control sk-hidden--visually\" id=\"sk-estimator-id-22\" type=\"checkbox\" ><label for=\"sk-estimator-id-22\" class=\"sk-toggleable__label sk-toggleable__label-arrow\">remainder</label><div class=\"sk-toggleable__content\"><pre>[]</pre></div></div></div><div class=\"sk-serial\"><div class=\"sk-item\"><div class=\"sk-estimator sk-toggleable\"><input class=\"sk-toggleable__control sk-hidden--visually\" id=\"sk-estimator-id-23\" type=\"checkbox\" ><label for=\"sk-estimator-id-23\" class=\"sk-toggleable__label sk-toggleable__label-arrow\">passthrough</label><div class=\"sk-toggleable__content\"><pre>passthrough</pre></div></div></div></div></div></div></div></div><div class=\"sk-item\"><div class=\"sk-estimator sk-toggleable\"><input class=\"sk-toggleable__control sk-hidden--visually\" id=\"sk-estimator-id-24\" type=\"checkbox\" ><label for=\"sk-estimator-id-24\" class=\"sk-toggleable__label sk-toggleable__label-arrow\">RandomForestClassifier</label><div class=\"sk-toggleable__content\"><pre>RandomForestClassifier(n_estimators=1000, n_jobs=-1, random_state=42)</pre></div></div></div></div></div></div></div>"
      ],
      "text/plain": [
       "Pipeline(steps=[('pre',\n",
       "                 ColumnTransformer(remainder='passthrough',\n",
       "                                   transformers=[('pre',\n",
       "                                                  Pipeline(steps=[('Vect',\n",
       "                                                                   CountVectorizer()),\n",
       "                                                                  ('Tsvd',\n",
       "                                                                   TruncatedSVD(n_components=10))]),\n",
       "                                                  'body')])),\n",
       "                ('rf',\n",
       "                 RandomForestClassifier(n_estimators=1000, n_jobs=-1,\n",
       "                                        random_state=42))])"
      ]
     },
     "execution_count": 24,
     "metadata": {},
     "output_type": "execute_result"
    }
   ],
   "source": [
    "# Train on all data. Should actually take the best params json in.\n",
    "training_x = df[['body']]\n",
    "training_y = df['label']\n",
    "print(training_x.shape)\n",
    "print(training_y.shape)\n",
    "if DEBUG: print('Original dataset shape {}'.format(Counter(training_y)))\n",
    "rus = RandomUnderSampler(random_state=42)\n",
    "x, y = rus.fit_resample(training_x, training_y)\n",
    "if DEBUG: print('Resampled dataset shape {}'.format(Counter(y)))\n",
    "\n",
    "text_preprocessing = Pipeline([\n",
    "    ('Vect', CountVectorizer()),\n",
    "    ('Tsvd', TruncatedSVD(n_components=10))\n",
    "    ])\n",
    "preprocess = ColumnTransformer([('pre', text_preprocessing, 'body')], remainder='passthrough')\n",
    "pipeline = Pipeline([\n",
    "                        ('pre', preprocess),\n",
    "                        # ('rf', RandomForestClassifier(max_depth=None, min_samples_split=2, n_estimators=1000, n_jobs=-1, random_state=42))\n",
    "                        ('rf', RandomForestClassifier())\n",
    "                    ])\n",
    "\n",
    "pipeline.set_params(**params)\n",
    "pipeline.fit(x, y)"
   ]
  },
  {
   "cell_type": "code",
   "execution_count": 34,
   "metadata": {},
   "outputs": [],
   "source": [
    "# Export PKL to S3: https://python-bloggers.com/2022/07/persisting-data-with-pickle-s3/\n",
    "\n",
    "filename = \"pipeline_%s.pkl\" % datetime.now().strftime(\"%Y%m%d-%H%M%S\")\n",
    "pickle.dump(pipeline, open(filename, \"wb\"))\n",
    "s3_client.upload_file(filename, \"joined-out\", filename)"
   ]
  },
  {
   "cell_type": "code",
   "execution_count": 30,
   "metadata": {},
   "outputs": [],
   "source": [
    "local = False\n",
    "if local:\n",
    "    joblib.dump(pipeline, \"classifier.pkl\")"
   ]
  },
  {
   "cell_type": "code",
   "execution_count": 31,
   "metadata": {},
   "outputs": [],
   "source": [
    "if local:\n",
    "    model = joblib.load(\"classifier.pkl\")"
   ]
  },
  {
   "cell_type": "code",
   "execution_count": null,
   "metadata": {},
   "outputs": [],
   "source": []
  }
 ],
 "metadata": {
  "kernelspec": {
   "display_name": "Python 3",
   "language": "python",
   "name": "python3"
  },
  "language_info": {
   "codemirror_mode": {
    "name": "ipython",
    "version": 3
   },
   "file_extension": ".py",
   "mimetype": "text/x-python",
   "name": "python",
   "nbconvert_exporter": "python",
   "pygments_lexer": "ipython3",
   "version": "3.10.1 (tags/v3.10.1:2cd268a, Dec  6 2021, 19:10:37) [MSC v.1929 64 bit (AMD64)]"
  },
  "orig_nbformat": 4,
  "vscode": {
   "interpreter": {
    "hash": "369f2c481f4da34e4445cda3fffd2e751bd1c4d706f27375911949ba6bb62e1c"
   }
  }
 },
 "nbformat": 4,
 "nbformat_minor": 2
}
