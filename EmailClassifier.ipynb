{
 "cells": [
  {
   "cell_type": "markdown",
   "metadata": {},
   "source": [
    "# Project 1: Email Classifier\n",
    "- Chloe Wallach\n",
    "- Roberto Garcia\n",
    "- Grant Fass\n",
    "\n",
    "## Imports"
   ]
  },
  {
   "cell_type": "code",
   "execution_count": 2,
   "metadata": {},
   "outputs": [],
   "source": [
    "import pandas as pd\n",
    "import numpy as np\n",
    "import os\n",
    "import json\n",
    "import glob\n"
   ]
  },
  {
   "cell_type": "markdown",
   "metadata": {},
   "source": [
    "## Load the Data"
   ]
  },
  {
   "cell_type": "code",
   "execution_count": 5,
   "metadata": {},
   "outputs": [
    {
     "name": "stdout",
     "output_type": "stream",
     "text": [
      "Num JSON Files: 63542\n"
     ]
    }
   ],
   "source": [
    "base_directory = os.path.abspath(\"./email_json_dataset1\")\n",
    "dir_exists = os.path.exists(base_directory)\n",
    "file_names = []\n",
    "if dir_exists:\n",
    "    file_names = glob.glob(base_directory + \"/**\")\n",
    "    print(\"Num JSON Files: %d\" % (len(file_names)))\n"
   ]
  },
  {
   "cell_type": "code",
   "execution_count": 7,
   "metadata": {},
   "outputs": [
    {
     "name": "stdout",
     "output_type": "stream",
     "text": [
      "Type: <class 'list'>, Len 63542\n"
     ]
    }
   ],
   "source": [
    "emails = []\n",
    "for file in file_names:\n",
    "    f = open(file)\n",
    "    dictionary = json.load(f)\n",
    "    emails.append(dictionary)\n",
    "\n",
    "print(\"Type: %s, Len %d\" % (type(emails), len(emails)))"
   ]
  },
  {
   "cell_type": "code",
   "execution_count": 8,
   "outputs": [
    {
     "name": "stdout",
     "output_type": "stream",
     "text": [
      "<class 'pandas.core.frame.DataFrame'>\n",
      "RangeIndex: 63542 entries, 0 to 63541\n",
      "Data columns (total 5 columns):\n",
      " #   Column        Non-Null Count  Dtype \n",
      "---  ------        --------------  ----- \n",
      " 0   label         63542 non-null  object\n",
      " 1   to_address    63141 non-null  object\n",
      " 2   from_address  63542 non-null  object\n",
      " 3   subject       63410 non-null  object\n",
      " 4   body          63542 non-null  object\n",
      "dtypes: object(5)\n",
      "memory usage: 2.4+ MB\n"
     ]
    }
   ],
   "source": [
    "df = pd.DataFrame.from_records(emails)\n",
    "df.info(verbose=True, show_counts=True)"
   ],
   "metadata": {
    "collapsed": false,
    "pycharm": {
     "name": "#%%\n"
    }
   }
  },
  {
   "cell_type": "code",
   "execution_count": 9,
   "outputs": [
    {
     "data": {
      "text/plain": "  label                       to_address  \\\n0  spam        the00@speedy.uwaterloo.ca   \n1   ham  debian-mirrors@lists.debian.org   \n2  spam         <the00@plg.uwaterloo.ca>   \n3  spam         opt4@speedy.uwaterloo.ca   \n4  spam     ktwarwic@speedy.uwaterloo.ca   \n\n                                        from_address  \\\n0                 \"Tomas Jacobs\" <RickyAmes@aol.com>   \n1         Yan Morin <yan.morin@savoirfairelinux.com>   \n2  \"Sheila Crenshaw\" <7stocknews@tractionmarketin...   \n3       \"Stormy Dempsey\" <vqucsmdfgvsg@ruraltek.com>   \n4         \"Christi T. Jernigan\" <dcube@totalink.net>   \n\n                                             subject  \\\n0                  Generic Cialis, branded quality@    \n1                             Typo in /debian/README   \n2                                   authentic viagra   \n3                               Nice talking with ya   \n4  or trembling; stomach cramps; trouble in sleep...   \n\n                                                body  \n0  \\n\\n\\n\\n\\n\\n\\nDo you feel the pressure to perf...  \n1  Hi, i've just updated from the gulus and I che...  \n2  authentic viagra\\n\\nMega  authenticV I A G R A...  \n3  \\nHey Billy, \\n\\nit was really fun going out t...  \n4  \\n\\n\\n\\n\\n\\n\\nsystem\" of the home.  It will ha...  ",
      "text/html": "<div>\n<style scoped>\n    .dataframe tbody tr th:only-of-type {\n        vertical-align: middle;\n    }\n\n    .dataframe tbody tr th {\n        vertical-align: top;\n    }\n\n    .dataframe thead th {\n        text-align: right;\n    }\n</style>\n<table border=\"1\" class=\"dataframe\">\n  <thead>\n    <tr style=\"text-align: right;\">\n      <th></th>\n      <th>label</th>\n      <th>to_address</th>\n      <th>from_address</th>\n      <th>subject</th>\n      <th>body</th>\n    </tr>\n  </thead>\n  <tbody>\n    <tr>\n      <th>0</th>\n      <td>spam</td>\n      <td>the00@speedy.uwaterloo.ca</td>\n      <td>\"Tomas Jacobs\" &lt;RickyAmes@aol.com&gt;</td>\n      <td>Generic Cialis, branded quality@</td>\n      <td>\\n\\n\\n\\n\\n\\n\\nDo you feel the pressure to perf...</td>\n    </tr>\n    <tr>\n      <th>1</th>\n      <td>ham</td>\n      <td>debian-mirrors@lists.debian.org</td>\n      <td>Yan Morin &lt;yan.morin@savoirfairelinux.com&gt;</td>\n      <td>Typo in /debian/README</td>\n      <td>Hi, i've just updated from the gulus and I che...</td>\n    </tr>\n    <tr>\n      <th>2</th>\n      <td>spam</td>\n      <td>&lt;the00@plg.uwaterloo.ca&gt;</td>\n      <td>\"Sheila Crenshaw\" &lt;7stocknews@tractionmarketin...</td>\n      <td>authentic viagra</td>\n      <td>authentic viagra\\n\\nMega  authenticV I A G R A...</td>\n    </tr>\n    <tr>\n      <th>3</th>\n      <td>spam</td>\n      <td>opt4@speedy.uwaterloo.ca</td>\n      <td>\"Stormy Dempsey\" &lt;vqucsmdfgvsg@ruraltek.com&gt;</td>\n      <td>Nice talking with ya</td>\n      <td>\\nHey Billy, \\n\\nit was really fun going out t...</td>\n    </tr>\n    <tr>\n      <th>4</th>\n      <td>spam</td>\n      <td>ktwarwic@speedy.uwaterloo.ca</td>\n      <td>\"Christi T. Jernigan\" &lt;dcube@totalink.net&gt;</td>\n      <td>or trembling; stomach cramps; trouble in sleep...</td>\n      <td>\\n\\n\\n\\n\\n\\n\\nsystem\" of the home.  It will ha...</td>\n    </tr>\n  </tbody>\n</table>\n</div>"
     },
     "execution_count": 9,
     "metadata": {},
     "output_type": "execute_result"
    }
   ],
   "source": [
    "df.head(5)"
   ],
   "metadata": {
    "collapsed": false,
    "pycharm": {
     "name": "#%%\n"
    }
   }
  },
  {
   "cell_type": "code",
   "execution_count": null,
   "outputs": [],
   "source": [],
   "metadata": {
    "collapsed": false,
    "pycharm": {
     "name": "#%%\n"
    }
   }
  },
  {
   "cell_type": "code",
   "execution_count": null,
   "outputs": [],
   "source": [],
   "metadata": {
    "collapsed": false,
    "pycharm": {
     "name": "#%%\n"
    }
   }
  },
  {
   "cell_type": "code",
   "execution_count": null,
   "outputs": [],
   "source": [],
   "metadata": {
    "collapsed": false,
    "pycharm": {
     "name": "#%%\n"
    }
   }
  }
 ],
 "metadata": {
  "kernelspec": {
   "display_name": "Python 3.10.1 64-bit",
   "language": "python",
   "name": "python3"
  },
  "language_info": {
   "name": "python",
   "version": "3.10.1"
  },
  "orig_nbformat": 4,
  "vscode": {
   "interpreter": {
    "hash": "369f2c481f4da34e4445cda3fffd2e751bd1c4d706f27375911949ba6bb62e1c"
   }
  }
 },
 "nbformat": 4,
 "nbformat_minor": 2
}