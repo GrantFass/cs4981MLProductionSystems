{
 "cells": [
  {
   "cell_type": "markdown",
   "metadata": {},
   "source": [
    "# Project 1: Email Classifier\n",
    "- Chloe Wallach\n",
    "- Roberto Garcia\n",
    "- Grant Fass\n",
    "\n",
    "## Imports"
   ]
  },
  {
   "cell_type": "code",
   "execution_count": 1,
   "metadata": {},
   "outputs": [],
   "source": [
    "import pandas as pd\n",
    "import numpy as np\n",
    "import os\n",
    "import json\n",
    "import glob\n",
    "from sklearn.feature_extraction.text import CountVectorizer\n",
    "import scipy\n",
    "from scipy.sparse import csr_matrix\n",
    "from sklearn.decomposition import TruncatedSVD\n",
    "import matplotlib.pyplot as plt\n",
    "from sklearn.model_selection import train_test_split\n",
    "from sklearn.metrics import confusion_matrix\n",
    "from sklearn.cluster import DBSCAN\n",
    "from sklearn import svm\n",
    "from sklearn import metrics\n",
    "from sklearn.model_selection import StratifiedKFold\n",
    "from imblearn.under_sampling import RandomUnderSampler\n",
    "from collections import Counter"
   ]
  },
  {
   "cell_type": "markdown",
   "metadata": {},
   "source": [
    "## Load the Data\n",
    "This section loads in the data. First the glob command is used to get a list of all files under a directory. Then this is iterated through with the JSON load command to open and read in each of the files and store them in another list. This list is then turned into a pandas dataframe using the from records command. The first few records of the table are then displayed as well as information about the data overall. The value counts command shows that there is a class imbalance. It shows that there are about 40000 spam emails and only about 20000 not spam emails."
   ]
  },
  {
   "cell_type": "code",
   "execution_count": 2,
   "metadata": {},
   "outputs": [
    {
     "name": "stdout",
     "output_type": "stream",
     "text": [
      "Num JSON Files: 63542\n"
     ]
    }
   ],
   "source": [
    "base_directory = os.path.abspath(\"./email_json_dataset1\")\n",
    "dir_exists = os.path.exists(base_directory)\n",
    "file_names = []\n",
    "if dir_exists:\n",
    "    file_names = glob.glob(base_directory + \"/**\")\n",
    "    print(\"Num JSON Files: %d\" % (len(file_names)))\n"
   ]
  },
  {
   "cell_type": "code",
   "execution_count": 3,
   "metadata": {},
   "outputs": [
    {
     "name": "stdout",
     "output_type": "stream",
     "text": [
      "Type: <class 'list'>, Len 63542\n"
     ]
    }
   ],
   "source": [
    "emails = []\n",
    "for file in file_names:\n",
    "    f = open(file)\n",
    "    dictionary = json.load(f)\n",
    "    emails.append(dictionary)\n",
    "\n",
    "print(\"Type: %s, Len %d\" % (type(emails), len(emails)))"
   ]
  },
  {
   "cell_type": "code",
   "execution_count": 4,
   "outputs": [
    {
     "name": "stdout",
     "output_type": "stream",
     "text": [
      "<class 'pandas.core.frame.DataFrame'>\n",
      "RangeIndex: 63542 entries, 0 to 63541\n",
      "Data columns (total 5 columns):\n",
      " #   Column        Non-Null Count  Dtype   \n",
      "---  ------        --------------  -----   \n",
      " 0   label         63542 non-null  category\n",
      " 1   to_address    63141 non-null  object  \n",
      " 2   from_address  63542 non-null  object  \n",
      " 3   subject       63410 non-null  object  \n",
      " 4   body          63542 non-null  object  \n",
      "dtypes: category(1), object(4)\n",
      "memory usage: 2.0+ MB\n"
     ]
    }
   ],
   "source": [
    "df = pd.DataFrame.from_records(emails)\n",
    "df['label'] = df['label'].astype('category')\n",
    "df.info(verbose=True, show_counts=True)"
   ],
   "metadata": {
    "collapsed": false,
    "pycharm": {
     "name": "#%%\n"
    }
   }
  },
  {
   "cell_type": "code",
   "execution_count": 5,
   "outputs": [
    {
     "data": {
      "text/plain": "  label                       to_address  \\\n0  spam        the00@speedy.uwaterloo.ca   \n1   ham  debian-mirrors@lists.debian.org   \n2  spam         <the00@plg.uwaterloo.ca>   \n3  spam         opt4@speedy.uwaterloo.ca   \n4  spam     ktwarwic@speedy.uwaterloo.ca   \n\n                                        from_address  \\\n0                 \"Tomas Jacobs\" <RickyAmes@aol.com>   \n1         Yan Morin <yan.morin@savoirfairelinux.com>   \n2  \"Sheila Crenshaw\" <7stocknews@tractionmarketin...   \n3       \"Stormy Dempsey\" <vqucsmdfgvsg@ruraltek.com>   \n4         \"Christi T. Jernigan\" <dcube@totalink.net>   \n\n                                             subject  \\\n0                  Generic Cialis, branded quality@    \n1                             Typo in /debian/README   \n2                                   authentic viagra   \n3                               Nice talking with ya   \n4  or trembling; stomach cramps; trouble in sleep...   \n\n                                                body  \n0  \\n\\n\\n\\n\\n\\n\\nDo you feel the pressure to perf...  \n1  Hi, i've just updated from the gulus and I che...  \n2  authentic viagra\\n\\nMega  authenticV I A G R A...  \n3  \\nHey Billy, \\n\\nit was really fun going out t...  \n4  \\n\\n\\n\\n\\n\\n\\nsystem\" of the home.  It will ha...  ",
      "text/html": "<div>\n<style scoped>\n    .dataframe tbody tr th:only-of-type {\n        vertical-align: middle;\n    }\n\n    .dataframe tbody tr th {\n        vertical-align: top;\n    }\n\n    .dataframe thead th {\n        text-align: right;\n    }\n</style>\n<table border=\"1\" class=\"dataframe\">\n  <thead>\n    <tr style=\"text-align: right;\">\n      <th></th>\n      <th>label</th>\n      <th>to_address</th>\n      <th>from_address</th>\n      <th>subject</th>\n      <th>body</th>\n    </tr>\n  </thead>\n  <tbody>\n    <tr>\n      <th>0</th>\n      <td>spam</td>\n      <td>the00@speedy.uwaterloo.ca</td>\n      <td>\"Tomas Jacobs\" &lt;RickyAmes@aol.com&gt;</td>\n      <td>Generic Cialis, branded quality@</td>\n      <td>\\n\\n\\n\\n\\n\\n\\nDo you feel the pressure to perf...</td>\n    </tr>\n    <tr>\n      <th>1</th>\n      <td>ham</td>\n      <td>debian-mirrors@lists.debian.org</td>\n      <td>Yan Morin &lt;yan.morin@savoirfairelinux.com&gt;</td>\n      <td>Typo in /debian/README</td>\n      <td>Hi, i've just updated from the gulus and I che...</td>\n    </tr>\n    <tr>\n      <th>2</th>\n      <td>spam</td>\n      <td>&lt;the00@plg.uwaterloo.ca&gt;</td>\n      <td>\"Sheila Crenshaw\" &lt;7stocknews@tractionmarketin...</td>\n      <td>authentic viagra</td>\n      <td>authentic viagra\\n\\nMega  authenticV I A G R A...</td>\n    </tr>\n    <tr>\n      <th>3</th>\n      <td>spam</td>\n      <td>opt4@speedy.uwaterloo.ca</td>\n      <td>\"Stormy Dempsey\" &lt;vqucsmdfgvsg@ruraltek.com&gt;</td>\n      <td>Nice talking with ya</td>\n      <td>\\nHey Billy, \\n\\nit was really fun going out t...</td>\n    </tr>\n    <tr>\n      <th>4</th>\n      <td>spam</td>\n      <td>ktwarwic@speedy.uwaterloo.ca</td>\n      <td>\"Christi T. Jernigan\" &lt;dcube@totalink.net&gt;</td>\n      <td>or trembling; stomach cramps; trouble in sleep...</td>\n      <td>\\n\\n\\n\\n\\n\\n\\nsystem\" of the home.  It will ha...</td>\n    </tr>\n  </tbody>\n</table>\n</div>"
     },
     "execution_count": 5,
     "metadata": {},
     "output_type": "execute_result"
    }
   ],
   "source": [
    "df.head(5)"
   ],
   "metadata": {
    "collapsed": false,
    "pycharm": {
     "name": "#%%\n"
    }
   }
  },
  {
   "cell_type": "code",
   "execution_count": 6,
   "outputs": [
    {
     "data": {
      "text/plain": "spam    40450\nham     23092\nName: label, dtype: int64"
     },
     "execution_count": 6,
     "metadata": {},
     "output_type": "execute_result"
    }
   ],
   "source": [
    "df['label'].value_counts()"
   ],
   "metadata": {
    "collapsed": false,
    "pycharm": {
     "name": "#%%\n"
    }
   }
  },
  {
   "cell_type": "markdown",
   "source": [
    "## Extract Features\n",
    "This uses the count vectorizer to create a CSR matrix based on the bodies of the emails. This is likely tracking which words are in each email."
   ],
   "metadata": {
    "collapsed": false
   }
  },
  {
   "cell_type": "code",
   "execution_count": 7,
   "outputs": [
    {
     "data": {
      "text/plain": "<63542x32144 sparse matrix of type '<class 'numpy.int64'>'\n\twith 6388757 stored elements in Compressed Sparse Row format>"
     },
     "execution_count": 7,
     "metadata": {},
     "output_type": "execute_result"
    }
   ],
   "source": [
    "vectorizer = CountVectorizer(binary=True, min_df=10)\n",
    "x = vectorizer.fit_transform(df['body'])\n",
    "x"
   ],
   "metadata": {
    "collapsed": false,
    "pycharm": {
     "name": "#%%\n"
    }
   }
  },
  {
   "cell_type": "markdown",
   "source": [
    "## Dim Reduction\n",
    "The below set of cells train a TruncatedSVD model with 10 components to run dimensionality reduction on the emails. This then prints out the explained variance ratio which shows how much of the variance in the dataset is accounted for by each of the smaller components. This is then displayed in a graph for easier legibility."
   ],
   "metadata": {
    "collapsed": false
   }
  },
  {
   "cell_type": "code",
   "execution_count": 8,
   "outputs": [
    {
     "data": {
      "text/plain": "(63542, 10)"
     },
     "execution_count": 8,
     "metadata": {},
     "output_type": "execute_result"
    }
   ],
   "source": [
    "vec = TruncatedSVD(n_components=10)\n",
    "truncated = vec.fit_transform(x)\n",
    "truncated.shape"
   ],
   "metadata": {
    "collapsed": false,
    "pycharm": {
     "name": "#%%\n"
    }
   }
  },
  {
   "cell_type": "code",
   "execution_count": 9,
   "outputs": [
    {
     "data": {
      "text/plain": "array([0.05746724, 0.02766835, 0.01722695, 0.01308166, 0.01357575,\n       0.0108356 , 0.01051995, 0.00992016, 0.00802982, 0.00788415])"
     },
     "execution_count": 9,
     "metadata": {},
     "output_type": "execute_result"
    }
   ],
   "source": [
    "vec.explained_variance_ratio_"
   ],
   "metadata": {
    "collapsed": false,
    "pycharm": {
     "name": "#%%\n"
    }
   }
  },
  {
   "cell_type": "code",
   "execution_count": 10,
   "outputs": [
    {
     "data": {
      "text/plain": "<Figure size 432x288 with 1 Axes>",
      "image/png": "[encoded data removed]"
     },
     "metadata": {
      "needs_background": "light"
     },
     "output_type": "display_data"
    }
   ],
   "source": [
    "plt.plot(vec.explained_variance_ratio_)\n",
    "plt.xlabel('index')\n",
    "plt.ylabel('explained variance ratio')\n",
    "plt.title('explained variance ratios')\n",
    "plt.show()"
   ],
   "metadata": {
    "collapsed": false,
    "pycharm": {
     "name": "#%%\n"
    }
   }
  },
  {
   "cell_type": "markdown",
   "source": [
    "## Use DBSCAN to cluster the data\n",
    "The below cell creates a graph based on the top two SVD components. From this we can see that there is a pretty good split between the emails that are spam and those that are not spam. This allows us to train an SVC model to evenly split the classes."
   ],
   "metadata": {
    "collapsed": false
   }
  },
  {
   "cell_type": "code",
   "execution_count": 11,
   "outputs": [
    {
     "data": {
      "text/plain": "<Figure size 432x288 with 1 Axes>",
      "image/png": "[encoded data removed]"
     },
     "metadata": {
      "needs_background": "light"
     },
     "output_type": "display_data"
    }
   ],
   "source": [
    "clustering = DBSCAN(min_samples=2).fit(truncated[:, 0:2])\n",
    "plt.scatter(truncated[:, 0], truncated[:, 1], c=clustering.labels_, s=1)\n",
    "plt.xlabel('Component 0')\n",
    "plt.ylabel('Component 1')\n",
    "plt.title('Comparison of First and Second Strongest Components.')\n",
    "plt.show()"
   ],
   "metadata": {
    "collapsed": false,
    "pycharm": {
     "name": "#%%\n"
    }
   }
  },
  {
   "cell_type": "markdown",
   "source": [
    "## Set up the data\n",
    "The below cell splits the data into separate variables for the data and its labels. It then uses the imblearn RandomUnderSampler class to create an even split of data between the two classes."
   ],
   "metadata": {
    "collapsed": false
   }
  },
  {
   "cell_type": "code",
   "execution_count": 12,
   "outputs": [
    {
     "name": "stdout",
     "output_type": "stream",
     "text": [
      "Original dataset shape Counter({0: 57733, 1: 5780, 2: 12, -1: 11, 3: 2, 4: 2, 5: 2})\n",
      "Resampled dataset shape Counter({-1: 2, 0: 2, 1: 2, 2: 2, 3: 2, 4: 2, 5: 2})\n"
     ]
    }
   ],
   "source": [
    "# y = df['label']\n",
    "# x = df.drop(columns=['label'])\n",
    "y_orig = clustering.labels_\n",
    "x_orig = truncated\n",
    "print('Original dataset shape {}'.format(Counter(y_orig)))\n",
    "rus = RandomUnderSampler(random_state=42)\n",
    "x, y = rus.fit_resample(x_orig, y_orig)\n",
    "print('Resampled dataset shape {}'.format(Counter(y)))"
   ],
   "metadata": {
    "collapsed": false,
    "pycharm": {
     "name": "#%%\n"
    }
   }
  },
  {
   "cell_type": "markdown",
   "source": [
    "## Run With Undersampling\n",
    "The below two cells train a SVC classifier with undersampling. This means that there is an equal proportion of both classes in the dataset. This helps to make up for the bias and potential overfitting that would be introduced from having nearly two times as many spam emails as ham emails. The first cell trains the model using a test size of 40%. The second cell trains the model using stratified k-folds cross validation with two splits. From this we can see that the stratification raises the accuracy to about 87% up from 67% without using stratified k-folds cross validation."
   ],
   "metadata": {
    "collapsed": false
   }
  },
  {
   "cell_type": "code",
   "execution_count": 13,
   "outputs": [
    {
     "name": "stdout",
     "output_type": "stream",
     "text": [
      "x_train: (8, 10)\n",
      "x_test: (6, 10)\n",
      "y_train: (8,)\n",
      "y_test: (6,)\n",
      "Accuracy: 0.67\n"
     ]
    }
   ],
   "source": [
    "x_train, x_test, y_train, y_test = train_test_split(x, y, test_size=0.40, random_state=42)\n",
    "print(\"x_train: %s\\nx_test: %s\\ny_train: %s\\ny_test: %s\" % (str(x_train.shape), str(x_test.shape), str(y_train.shape), str(y_test.shape)))\n",
    "clf = svm.SVC(kernel='linear')\n",
    "clf.fit(x_train, y_train)\n",
    "y_pred = clf.predict(x_test)\n",
    "print(\"Accuracy: %.2f\" % (metrics.accuracy_score(y_test, y_pred)))"
   ],
   "metadata": {
    "collapsed": false,
    "pycharm": {
     "name": "#%%\n"
    }
   }
  },
  {
   "cell_type": "code",
   "execution_count": 14,
   "outputs": [
    {
     "name": "stdout",
     "output_type": "stream",
     "text": [
      "TRAIN: [ 1  3  5  7  9 11 13] TEST: [ 0  2  4  6  8 10 12]\n",
      "Accuracy: 0.86\n",
      "TRAIN: [ 0  2  4  6  8 10 12] TEST: [ 1  3  5  7  9 11 13]\n",
      "Accuracy: 0.86\n"
     ]
    }
   ],
   "source": [
    "skf = StratifiedKFold(n_splits=2)\n",
    "skf.get_n_splits(x, y)\n",
    "for train_index, test_index in skf.split(x, y):\n",
    "    print(\"TRAIN:\", train_index, \"TEST:\", test_index)\n",
    "    x_train, x_test = x[train_index], x[test_index]\n",
    "    y_train, y_test = y[train_index], y[test_index]\n",
    "    clf = svm.SVC(kernel='linear')\n",
    "    clf.fit(x_train, y_train)\n",
    "    y_pred = clf.predict(x_test)\n",
    "    print(\"Accuracy: %.2f\" % (metrics.accuracy_score(y_test, y_pred)))"
   ],
   "metadata": {
    "collapsed": false,
    "pycharm": {
     "name": "#%%\n"
    }
   }
  },
  {
   "cell_type": "markdown",
   "source": [
    "## Run Without Undersampling\n",
    "The below cell trains the model using stratified k-folds cross validation across two splits. It does not use the undersampled classes. As such there is a class imbalance. This model reports very high accuracy which means it may be overfitting."
   ],
   "metadata": {
    "collapsed": false
   }
  },
  {
   "cell_type": "code",
   "execution_count": 15,
   "outputs": [
    {
     "name": "stdout",
     "output_type": "stream",
     "text": [
      "TRAIN: [23069 23088 23101 ... 63539 63540 63541] TEST: [    0     1     2 ... 36262 36280 59119]\n",
      "Accuracy: 1.00\n",
      "TRAIN: [    0     1     2 ... 36262 36280 59119] TEST: [23069 23088 23101 ... 63539 63540 63541]\n",
      "Accuracy: 0.99\n"
     ]
    }
   ],
   "source": [
    "skf = StratifiedKFold(n_splits=2)\n",
    "skf.get_n_splits(x_orig, y_orig)\n",
    "for train_index, test_index in skf.split(x_orig, y_orig):\n",
    "    print(\"TRAIN:\", train_index, \"TEST:\", test_index)\n",
    "    x_train, x_test = x_orig[train_index], x_orig[test_index]\n",
    "    y_train, y_test = y_orig[train_index], y_orig[test_index]\n",
    "    clf = svm.SVC(kernel='linear')\n",
    "    clf.fit(x_train, y_train)\n",
    "    y_pred = clf.predict(x_test)\n",
    "    print(\"Accuracy: %.2f\" % (metrics.accuracy_score(y_test, y_pred)))"
   ],
   "metadata": {
    "collapsed": false,
    "pycharm": {
     "name": "#%%\n"
    }
   }
  },
  {
   "cell_type": "code",
   "execution_count": 15,
   "outputs": [],
   "source": [],
   "metadata": {
    "collapsed": false,
    "pycharm": {
     "name": "#%%\n"
    }
   }
  },
  {
   "cell_type": "code",
   "execution_count": 15,
   "outputs": [],
   "source": [],
   "metadata": {
    "collapsed": false,
    "pycharm": {
     "name": "#%%\n"
    }
   }
  }
 ],
 "metadata": {
  "kernelspec": {
   "display_name": "Python 3.10.1 64-bit",
   "language": "python",
   "name": "python3"
  },
  "language_info": {
   "name": "python",
   "version": "3.10.1"
  },
  "orig_nbformat": 4,
  "vscode": {
   "interpreter": {
    "hash": "369f2c481f4da34e4445cda3fffd2e751bd1c4d706f27375911949ba6bb62e1c"
   }
  }
 },
 "nbformat": 4,
 "nbformat_minor": 2
}